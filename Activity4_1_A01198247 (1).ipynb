{
  "nbformat": 4,
  "nbformat_minor": 0,
  "metadata": {
    "colab": {
      "provenance": []
    },
    "kernelspec": {
      "name": "python3",
      "display_name": "Python 3"
    },
    "language_info": {
      "name": "python"
    }
  },
  "cells": [
    {
      "cell_type": "markdown",
      "source": [
        "# Histograma de Goles del mundial de Catar 2022.\n",
        "##Erick Eduardo Orozco Reyes A01198247\n"
      ],
      "metadata": {
        "id": "tDV5LcDFexJM"
      }
    },
    {
      "cell_type": "markdown",
      "source": [
        "El proceso seleccionado ya contaba con un dataset sacado de internet, el cual nos muestra las estadisticas de todos los partidos que hubo en el mundial de futbol de Catar 2022. Para poder realizar la actividad solo nos centraremos en los goles marcados por partido, para poder comprender mejor los modelos."
      ],
      "metadata": {
        "id": "g2sh_D5JjU7P"
      }
    },
    {
      "cell_type": "markdown",
      "source": [
        "#### 1.- Importamos la librerías que usaremos:"
      ],
      "metadata": {
        "id": "T5hPmxHye81W"
      }
    },
    {
      "cell_type": "code",
      "execution_count": null,
      "metadata": {
        "id": "ecnxU_6XgTpy"
      },
      "outputs": [],
      "source": [
        "\n",
        "!pip install fitter seaborn"
      ]
    },
    {
      "cell_type": "code",
      "source": [
        "!pip install --force-reinstall numpy==1.23.5\n",
        "!pip install --upgrade --force-reinstall fitter"
      ],
      "metadata": {
        "collapsed": true,
        "id": "9ep_XggkiPg9"
      },
      "execution_count": null,
      "outputs": []
    },
    {
      "cell_type": "code",
      "source": [
        "!pip install scipy"
      ],
      "metadata": {
        "id": "oTIfREJGrBTU"
      },
      "execution_count": null,
      "outputs": []
    },
    {
      "cell_type": "markdown",
      "source": [
        "### 2.- Cargamos el Documento y comenzamos a graficar con los datos."
      ],
      "metadata": {
        "id": "_v4rw0BdfE-O"
      }
    },
    {
      "cell_type": "code",
      "source": [
        "import pandas as pd\n",
        "import numpy as np\n",
        "import matplotlib.pyplot as plt\n",
        "import scipy.stats as stats\n",
        "\n",
        "\n",
        "archivo = \"Fifa Worldcup 2022.csv\"\n",
        "df = pd.read_csv(archivo)\n",
        "\n",
        "df.head()\n"
      ],
      "metadata": {
        "colab": {
          "base_uri": "https://localhost:8080/",
          "height": 270
        },
        "id": "18ZiZivNmjIu",
        "outputId": "3a8be1bb-c823-4540-d54f-93eb046fc482"
      },
      "execution_count": 1,
      "outputs": [
        {
          "output_type": "execute_result",
          "data": {
            "text/plain": [
              "   Sl. No  Match No.     Team      Against Group  Goal  Possession (%)  \\\n",
              "0       1          1    Qatar      Ecuador     A     0              40   \n",
              "1       2          1  Ecuador        Qatar     A     2              46   \n",
              "2       3          2  England         Iran     B     6              69   \n",
              "3       4          2     Iran      England     B     2              20   \n",
              "4       5          3  Senegal  Netherlands     A     0              39   \n",
              "\n",
              "   Inside Penalty Area  Outside Penalty Area  Assists  ...  Fouls Against  \\\n",
              "0                    0                     0        0  ...             15   \n",
              "1                    2                     0        1  ...             15   \n",
              "2                    6                     0        6  ...              9   \n",
              "3                    2                     0        1  ...             14   \n",
              "4                    0                     0        0  ...             13   \n",
              "\n",
              "   Offsides  Passes  Passes Completed  Crosses  Crosses Completed  Corners  \\\n",
              "0         3     453               387       10                  5        1   \n",
              "1         4     484               419       26                 10        3   \n",
              "2         2     810               733       29                  9        8   \n",
              "3         2     232               156       11                  3        0   \n",
              "4         2     391               326       22                  8        6   \n",
              "\n",
              "   Free Kicks  Penalties Scored  Pts  \n",
              "0          19                 0    0  \n",
              "1          17                 1    3  \n",
              "2          16                 0    3  \n",
              "3          10                 1    0  \n",
              "4          14                 0    0  \n",
              "\n",
              "[5 rows x 38 columns]"
            ],
            "text/html": [
              "\n",
              "  <div id=\"df-de181f9d-9db3-4310-b226-2eeca72f8fc5\" class=\"colab-df-container\">\n",
              "    <div>\n",
              "<style scoped>\n",
              "    .dataframe tbody tr th:only-of-type {\n",
              "        vertical-align: middle;\n",
              "    }\n",
              "\n",
              "    .dataframe tbody tr th {\n",
              "        vertical-align: top;\n",
              "    }\n",
              "\n",
              "    .dataframe thead th {\n",
              "        text-align: right;\n",
              "    }\n",
              "</style>\n",
              "<table border=\"1\" class=\"dataframe\">\n",
              "  <thead>\n",
              "    <tr style=\"text-align: right;\">\n",
              "      <th></th>\n",
              "      <th>Sl. No</th>\n",
              "      <th>Match No.</th>\n",
              "      <th>Team</th>\n",
              "      <th>Against</th>\n",
              "      <th>Group</th>\n",
              "      <th>Goal</th>\n",
              "      <th>Possession (%)</th>\n",
              "      <th>Inside Penalty Area</th>\n",
              "      <th>Outside Penalty Area</th>\n",
              "      <th>Assists</th>\n",
              "      <th>...</th>\n",
              "      <th>Fouls Against</th>\n",
              "      <th>Offsides</th>\n",
              "      <th>Passes</th>\n",
              "      <th>Passes Completed</th>\n",
              "      <th>Crosses</th>\n",
              "      <th>Crosses Completed</th>\n",
              "      <th>Corners</th>\n",
              "      <th>Free Kicks</th>\n",
              "      <th>Penalties Scored</th>\n",
              "      <th>Pts</th>\n",
              "    </tr>\n",
              "  </thead>\n",
              "  <tbody>\n",
              "    <tr>\n",
              "      <th>0</th>\n",
              "      <td>1</td>\n",
              "      <td>1</td>\n",
              "      <td>Qatar</td>\n",
              "      <td>Ecuador</td>\n",
              "      <td>A</td>\n",
              "      <td>0</td>\n",
              "      <td>40</td>\n",
              "      <td>0</td>\n",
              "      <td>0</td>\n",
              "      <td>0</td>\n",
              "      <td>...</td>\n",
              "      <td>15</td>\n",
              "      <td>3</td>\n",
              "      <td>453</td>\n",
              "      <td>387</td>\n",
              "      <td>10</td>\n",
              "      <td>5</td>\n",
              "      <td>1</td>\n",
              "      <td>19</td>\n",
              "      <td>0</td>\n",
              "      <td>0</td>\n",
              "    </tr>\n",
              "    <tr>\n",
              "      <th>1</th>\n",
              "      <td>2</td>\n",
              "      <td>1</td>\n",
              "      <td>Ecuador</td>\n",
              "      <td>Qatar</td>\n",
              "      <td>A</td>\n",
              "      <td>2</td>\n",
              "      <td>46</td>\n",
              "      <td>2</td>\n",
              "      <td>0</td>\n",
              "      <td>1</td>\n",
              "      <td>...</td>\n",
              "      <td>15</td>\n",
              "      <td>4</td>\n",
              "      <td>484</td>\n",
              "      <td>419</td>\n",
              "      <td>26</td>\n",
              "      <td>10</td>\n",
              "      <td>3</td>\n",
              "      <td>17</td>\n",
              "      <td>1</td>\n",
              "      <td>3</td>\n",
              "    </tr>\n",
              "    <tr>\n",
              "      <th>2</th>\n",
              "      <td>3</td>\n",
              "      <td>2</td>\n",
              "      <td>England</td>\n",
              "      <td>Iran</td>\n",
              "      <td>B</td>\n",
              "      <td>6</td>\n",
              "      <td>69</td>\n",
              "      <td>6</td>\n",
              "      <td>0</td>\n",
              "      <td>6</td>\n",
              "      <td>...</td>\n",
              "      <td>9</td>\n",
              "      <td>2</td>\n",
              "      <td>810</td>\n",
              "      <td>733</td>\n",
              "      <td>29</td>\n",
              "      <td>9</td>\n",
              "      <td>8</td>\n",
              "      <td>16</td>\n",
              "      <td>0</td>\n",
              "      <td>3</td>\n",
              "    </tr>\n",
              "    <tr>\n",
              "      <th>3</th>\n",
              "      <td>4</td>\n",
              "      <td>2</td>\n",
              "      <td>Iran</td>\n",
              "      <td>England</td>\n",
              "      <td>B</td>\n",
              "      <td>2</td>\n",
              "      <td>20</td>\n",
              "      <td>2</td>\n",
              "      <td>0</td>\n",
              "      <td>1</td>\n",
              "      <td>...</td>\n",
              "      <td>14</td>\n",
              "      <td>2</td>\n",
              "      <td>232</td>\n",
              "      <td>156</td>\n",
              "      <td>11</td>\n",
              "      <td>3</td>\n",
              "      <td>0</td>\n",
              "      <td>10</td>\n",
              "      <td>1</td>\n",
              "      <td>0</td>\n",
              "    </tr>\n",
              "    <tr>\n",
              "      <th>4</th>\n",
              "      <td>5</td>\n",
              "      <td>3</td>\n",
              "      <td>Senegal</td>\n",
              "      <td>Netherlands</td>\n",
              "      <td>A</td>\n",
              "      <td>0</td>\n",
              "      <td>39</td>\n",
              "      <td>0</td>\n",
              "      <td>0</td>\n",
              "      <td>0</td>\n",
              "      <td>...</td>\n",
              "      <td>13</td>\n",
              "      <td>2</td>\n",
              "      <td>391</td>\n",
              "      <td>326</td>\n",
              "      <td>22</td>\n",
              "      <td>8</td>\n",
              "      <td>6</td>\n",
              "      <td>14</td>\n",
              "      <td>0</td>\n",
              "      <td>0</td>\n",
              "    </tr>\n",
              "  </tbody>\n",
              "</table>\n",
              "<p>5 rows × 38 columns</p>\n",
              "</div>\n",
              "    <div class=\"colab-df-buttons\">\n",
              "\n",
              "  <div class=\"colab-df-container\">\n",
              "    <button class=\"colab-df-convert\" onclick=\"convertToInteractive('df-de181f9d-9db3-4310-b226-2eeca72f8fc5')\"\n",
              "            title=\"Convert this dataframe to an interactive table.\"\n",
              "            style=\"display:none;\">\n",
              "\n",
              "  <svg xmlns=\"http://www.w3.org/2000/svg\" height=\"24px\" viewBox=\"0 -960 960 960\">\n",
              "    <path d=\"M120-120v-720h720v720H120Zm60-500h600v-160H180v160Zm220 220h160v-160H400v160Zm0 220h160v-160H400v160ZM180-400h160v-160H180v160Zm440 0h160v-160H620v160ZM180-180h160v-160H180v160Zm440 0h160v-160H620v160Z\"/>\n",
              "  </svg>\n",
              "    </button>\n",
              "\n",
              "  <style>\n",
              "    .colab-df-container {\n",
              "      display:flex;\n",
              "      gap: 12px;\n",
              "    }\n",
              "\n",
              "    .colab-df-convert {\n",
              "      background-color: #E8F0FE;\n",
              "      border: none;\n",
              "      border-radius: 50%;\n",
              "      cursor: pointer;\n",
              "      display: none;\n",
              "      fill: #1967D2;\n",
              "      height: 32px;\n",
              "      padding: 0 0 0 0;\n",
              "      width: 32px;\n",
              "    }\n",
              "\n",
              "    .colab-df-convert:hover {\n",
              "      background-color: #E2EBFA;\n",
              "      box-shadow: 0px 1px 2px rgba(60, 64, 67, 0.3), 0px 1px 3px 1px rgba(60, 64, 67, 0.15);\n",
              "      fill: #174EA6;\n",
              "    }\n",
              "\n",
              "    .colab-df-buttons div {\n",
              "      margin-bottom: 4px;\n",
              "    }\n",
              "\n",
              "    [theme=dark] .colab-df-convert {\n",
              "      background-color: #3B4455;\n",
              "      fill: #D2E3FC;\n",
              "    }\n",
              "\n",
              "    [theme=dark] .colab-df-convert:hover {\n",
              "      background-color: #434B5C;\n",
              "      box-shadow: 0px 1px 3px 1px rgba(0, 0, 0, 0.15);\n",
              "      filter: drop-shadow(0px 1px 2px rgba(0, 0, 0, 0.3));\n",
              "      fill: #FFFFFF;\n",
              "    }\n",
              "  </style>\n",
              "\n",
              "    <script>\n",
              "      const buttonEl =\n",
              "        document.querySelector('#df-de181f9d-9db3-4310-b226-2eeca72f8fc5 button.colab-df-convert');\n",
              "      buttonEl.style.display =\n",
              "        google.colab.kernel.accessAllowed ? 'block' : 'none';\n",
              "\n",
              "      async function convertToInteractive(key) {\n",
              "        const element = document.querySelector('#df-de181f9d-9db3-4310-b226-2eeca72f8fc5');\n",
              "        const dataTable =\n",
              "          await google.colab.kernel.invokeFunction('convertToInteractive',\n",
              "                                                    [key], {});\n",
              "        if (!dataTable) return;\n",
              "\n",
              "        const docLinkHtml = 'Like what you see? Visit the ' +\n",
              "          '<a target=\"_blank\" href=https://colab.research.google.com/notebooks/data_table.ipynb>data table notebook</a>'\n",
              "          + ' to learn more about interactive tables.';\n",
              "        element.innerHTML = '';\n",
              "        dataTable['output_type'] = 'display_data';\n",
              "        await google.colab.output.renderOutput(dataTable, element);\n",
              "        const docLink = document.createElement('div');\n",
              "        docLink.innerHTML = docLinkHtml;\n",
              "        element.appendChild(docLink);\n",
              "      }\n",
              "    </script>\n",
              "  </div>\n",
              "\n",
              "\n",
              "<div id=\"df-3da30ac4-5d9a-41df-a8c1-971ccef1b1db\">\n",
              "  <button class=\"colab-df-quickchart\" onclick=\"quickchart('df-3da30ac4-5d9a-41df-a8c1-971ccef1b1db')\"\n",
              "            title=\"Suggest charts\"\n",
              "            style=\"display:none;\">\n",
              "\n",
              "<svg xmlns=\"http://www.w3.org/2000/svg\" height=\"24px\"viewBox=\"0 0 24 24\"\n",
              "     width=\"24px\">\n",
              "    <g>\n",
              "        <path d=\"M19 3H5c-1.1 0-2 .9-2 2v14c0 1.1.9 2 2 2h14c1.1 0 2-.9 2-2V5c0-1.1-.9-2-2-2zM9 17H7v-7h2v7zm4 0h-2V7h2v10zm4 0h-2v-4h2v4z\"/>\n",
              "    </g>\n",
              "</svg>\n",
              "  </button>\n",
              "\n",
              "<style>\n",
              "  .colab-df-quickchart {\n",
              "      --bg-color: #E8F0FE;\n",
              "      --fill-color: #1967D2;\n",
              "      --hover-bg-color: #E2EBFA;\n",
              "      --hover-fill-color: #174EA6;\n",
              "      --disabled-fill-color: #AAA;\n",
              "      --disabled-bg-color: #DDD;\n",
              "  }\n",
              "\n",
              "  [theme=dark] .colab-df-quickchart {\n",
              "      --bg-color: #3B4455;\n",
              "      --fill-color: #D2E3FC;\n",
              "      --hover-bg-color: #434B5C;\n",
              "      --hover-fill-color: #FFFFFF;\n",
              "      --disabled-bg-color: #3B4455;\n",
              "      --disabled-fill-color: #666;\n",
              "  }\n",
              "\n",
              "  .colab-df-quickchart {\n",
              "    background-color: var(--bg-color);\n",
              "    border: none;\n",
              "    border-radius: 50%;\n",
              "    cursor: pointer;\n",
              "    display: none;\n",
              "    fill: var(--fill-color);\n",
              "    height: 32px;\n",
              "    padding: 0;\n",
              "    width: 32px;\n",
              "  }\n",
              "\n",
              "  .colab-df-quickchart:hover {\n",
              "    background-color: var(--hover-bg-color);\n",
              "    box-shadow: 0 1px 2px rgba(60, 64, 67, 0.3), 0 1px 3px 1px rgba(60, 64, 67, 0.15);\n",
              "    fill: var(--button-hover-fill-color);\n",
              "  }\n",
              "\n",
              "  .colab-df-quickchart-complete:disabled,\n",
              "  .colab-df-quickchart-complete:disabled:hover {\n",
              "    background-color: var(--disabled-bg-color);\n",
              "    fill: var(--disabled-fill-color);\n",
              "    box-shadow: none;\n",
              "  }\n",
              "\n",
              "  .colab-df-spinner {\n",
              "    border: 2px solid var(--fill-color);\n",
              "    border-color: transparent;\n",
              "    border-bottom-color: var(--fill-color);\n",
              "    animation:\n",
              "      spin 1s steps(1) infinite;\n",
              "  }\n",
              "\n",
              "  @keyframes spin {\n",
              "    0% {\n",
              "      border-color: transparent;\n",
              "      border-bottom-color: var(--fill-color);\n",
              "      border-left-color: var(--fill-color);\n",
              "    }\n",
              "    20% {\n",
              "      border-color: transparent;\n",
              "      border-left-color: var(--fill-color);\n",
              "      border-top-color: var(--fill-color);\n",
              "    }\n",
              "    30% {\n",
              "      border-color: transparent;\n",
              "      border-left-color: var(--fill-color);\n",
              "      border-top-color: var(--fill-color);\n",
              "      border-right-color: var(--fill-color);\n",
              "    }\n",
              "    40% {\n",
              "      border-color: transparent;\n",
              "      border-right-color: var(--fill-color);\n",
              "      border-top-color: var(--fill-color);\n",
              "    }\n",
              "    60% {\n",
              "      border-color: transparent;\n",
              "      border-right-color: var(--fill-color);\n",
              "    }\n",
              "    80% {\n",
              "      border-color: transparent;\n",
              "      border-right-color: var(--fill-color);\n",
              "      border-bottom-color: var(--fill-color);\n",
              "    }\n",
              "    90% {\n",
              "      border-color: transparent;\n",
              "      border-bottom-color: var(--fill-color);\n",
              "    }\n",
              "  }\n",
              "</style>\n",
              "\n",
              "  <script>\n",
              "    async function quickchart(key) {\n",
              "      const quickchartButtonEl =\n",
              "        document.querySelector('#' + key + ' button');\n",
              "      quickchartButtonEl.disabled = true;  // To prevent multiple clicks.\n",
              "      quickchartButtonEl.classList.add('colab-df-spinner');\n",
              "      try {\n",
              "        const charts = await google.colab.kernel.invokeFunction(\n",
              "            'suggestCharts', [key], {});\n",
              "      } catch (error) {\n",
              "        console.error('Error during call to suggestCharts:', error);\n",
              "      }\n",
              "      quickchartButtonEl.classList.remove('colab-df-spinner');\n",
              "      quickchartButtonEl.classList.add('colab-df-quickchart-complete');\n",
              "    }\n",
              "    (() => {\n",
              "      let quickchartButtonEl =\n",
              "        document.querySelector('#df-3da30ac4-5d9a-41df-a8c1-971ccef1b1db button');\n",
              "      quickchartButtonEl.style.display =\n",
              "        google.colab.kernel.accessAllowed ? 'block' : 'none';\n",
              "    })();\n",
              "  </script>\n",
              "</div>\n",
              "\n",
              "    </div>\n",
              "  </div>\n"
            ],
            "application/vnd.google.colaboratory.intrinsic+json": {
              "type": "dataframe",
              "variable_name": "df"
            }
          },
          "metadata": {},
          "execution_count": 1
        }
      ]
    },
    {
      "cell_type": "code",
      "source": [
        "# Nos enfocamos en la columna de goles\n",
        "data = df[\"Goal\"].dropna().values\n",
        "\n",
        "# Mostrar estadísticos básicos\n",
        "print(\"Media de goles:\", np.mean(data))\n",
        "print(\"Máximo de goles:\", np.max(data))\n",
        "print(\"Mínimo de goles:\", np.min(data))"
      ],
      "metadata": {
        "colab": {
          "base_uri": "https://localhost:8080/"
        },
        "id": "zNobgpz1movQ",
        "outputId": "827e793a-7380-4e8b-c4ff-b5e82df6adb1"
      },
      "execution_count": 2,
      "outputs": [
        {
          "output_type": "stream",
          "name": "stdout",
          "text": [
            "Media de goles: 1.34375\n",
            "Máximo de goles: 7\n",
            "Mínimo de goles: 0\n"
          ]
        }
      ]
    },
    {
      "cell_type": "code",
      "source": [
        "# Definir algunas distribuciones comunes para datos discretos/positivos\n",
        "distributions = [\n",
        "    stats.norm, stats.expon, stats.gamma, stats.beta, stats.lognorm\n",
        "]\n",
        "\n",
        "# Inicializar variables para encontrar la mejor\n",
        "best_fit = None\n",
        "best_error = np.inf\n",
        "best_distribution = None\n",
        "\n",
        "# Crear histograma para comparación\n",
        "hist_values, bin_edges = np.histogram(data, bins=range(int(np.min(data)), int(np.max(data)) + 2), density=True)\n",
        "bin_centers = (bin_edges[:-1] + bin_edges[1:]) / 2\n",
        "\n",
        "for distribution in distributions:\n",
        "    try:\n",
        "        params = distribution.fit(data)\n",
        "        pdf_fitted = distribution.pdf(bin_centers, *params)\n",
        "        mse = np.mean((pdf_fitted - hist_values) ** 2)\n",
        "        print(f\"{distribution.name}: MSE = {mse}\")\n",
        "\n",
        "        if mse < best_error:\n",
        "            best_error = mse\n",
        "            best_fit = params\n",
        "            best_distribution = distribution\n",
        "    except Exception as e:\n",
        "        print(f\"Error con {distribution.name}: {e}\")\n",
        "\n",
        "\n",
        "mu, sigma = stats.norm.fit(data)\n",
        "print(f\"Media (mu): {mu}\")\n",
        "print(f\"Desviación estándar (sigma): {sigma}\")"
      ],
      "metadata": {
        "colab": {
          "base_uri": "https://localhost:8080/"
        },
        "id": "Kh3kwbQYmt9d",
        "outputId": "0802772b-cfa6-44ef-9332-2f31e14d3f2f"
      },
      "execution_count": 6,
      "outputs": [
        {
          "output_type": "stream",
          "name": "stdout",
          "text": [
            "norm: MSE = 0.0007940969505181788\n",
            "expon: MSE = 0.00744218818554791\n",
            "gamma: MSE = 0.011719114749396816\n",
            "beta: MSE = 0.014175381861721115\n",
            "lognorm: MSE = 0.03132009808678068\n",
            "Media (mu): 1.34375\n",
            "Desviación estándar (sigma): 1.3371933059584167\n"
          ]
        }
      ]
    },
    {
      "cell_type": "code",
      "source": [
        "# Crear histograma\n",
        "plt.figure(figsize=(10, 6))\n",
        "plt.hist(data, bins=range(int(np.min(data)), int(np.max(data)) + 2),\n",
        "         density=True, alpha=0.6, color='skyblue', edgecolor='black', label=\"Goles por partido\")\n",
        "\n",
        "# Etiquetas y título\n",
        "plt.title(\"Distribución de Goles por Partido - Mundial 2022\")\n",
        "plt.xlabel(\"Goles\")\n",
        "plt.ylabel(\"Densidad\")\n",
        "plt.legend()\n",
        "plt.grid(True)\n",
        "plt.show()"
      ],
      "metadata": {
        "id": "PAiKkDrqldex",
        "outputId": "32e4472d-f6f1-4d32-aa7e-16c5f5d7679c",
        "colab": {
          "base_uri": "https://localhost:8080/",
          "height": 565
        }
      },
      "execution_count": 10,
      "outputs": [
        {
          "output_type": "display_data",
          "data": {
            "text/plain": [
              "<Figure size 1000x600 with 1 Axes>"
            ],
            "image/png": "[encoded data removed]"
          },
          "metadata": {}
        }
      ]
    },
    {
      "cell_type": "code",
      "source": [
        "# Graficar el histograma de los goles\n",
        "plt.figure(figsize=(10, 6))\n",
        "plt.hist(data, bins=range(int(np.min(data)), int(np.max(data)) + 2), density=True, alpha=0.6,\n",
        "         color='skyblue', edgecolor='black', label=\"Datos reales\")\n",
        "\n",
        "# Graficar la mejor distribución ajustada\n",
        "x = np.linspace(np.min(data), np.max(data), 100)\n",
        "pdf = best_distribution.pdf(x, *best_fit)\n",
        "plt.plot(x, pdf, 'r-', linewidth=2, label=f\"Distribución ajustada: {best_distribution.name}\")\n",
        "\n",
        "plt.title(\"Distribución de Goles por Partido - Mundial 2022\")\n",
        "plt.xlabel(\"Goles\")\n",
        "plt.ylabel(\"Densidad\")\n",
        "plt.legend()\n",
        "plt.grid(True)\n",
        "plt.show()\n"
      ],
      "metadata": {
        "colab": {
          "base_uri": "https://localhost:8080/",
          "height": 565
        },
        "id": "ZRcA4oRvm7S2",
        "outputId": "d69a3592-e9e0-474f-ccfd-ee7a987045c9"
      },
      "execution_count": 4,
      "outputs": [
        {
          "output_type": "display_data",
          "data": {
            "text/plain": [
              "<Figure size 1000x600 with 1 Axes>"
            ],
            "image/png": "[encoded data removed]"
          },
          "metadata": {}
        }
      ]
    },
    {
      "cell_type": "markdown",
      "source": [
        "# Reflexión\n",
        "\n",
        "Como pudimos observar, el codigo encontro que la sitribución normal fue la que tuvo el MSE mas bajo, lo cual es el mejor que se ajusta a nuestros datos reales."
      ],
      "metadata": {
        "id": "ci_zDrjpgBv5"
      }
    },
    {
      "cell_type": "markdown",
      "source": [
        "## ¿Cuáles son los parámetros de la distribución?\n",
        "Fueron dos, la media que se refiere al promedio de goles por partido y la desviación estandar que expone que tanto vare los goles respecto al promedio."
      ],
      "metadata": {
        "id": "05QMM9tJgZW5"
      }
    },
    {
      "cell_type": "code",
      "source": [
        "mu, sigma = stats.norm.fit(data)\n",
        "print(f\"Media (mu): {mu}\")\n",
        "print(f\"Desviación estándar (sigma): {sigma}\")\n"
      ],
      "metadata": {
        "colab": {
          "base_uri": "https://localhost:8080/"
        },
        "id": "y2yLEtIWjKTk",
        "outputId": "93215b87-d8e9-4741-a915-f79c37bf7f31"
      },
      "execution_count": 8,
      "outputs": [
        {
          "output_type": "stream",
          "name": "stdout",
          "text": [
            "Media (mu): 1.34375\n",
            "Desviación estándar (sigma): 1.3371933059584167\n"
          ]
        }
      ]
    },
    {
      "cell_type": "markdown",
      "source": [
        "# ¿Cómo podrías utilizar el modelo creado?\n",
        "\n",
        "Pueden haber varios usos, como el de predecir probabilidades de que un partido tenga más de 3 goles, además de evaluarsi hay cambios en el tiempo, en este caso podemos saber si los partidos se vuelven más ofensivos o defensivos con forme pasa el tiempo. Tambien puede ayudar generar datos sintéticos que se apeguen al la realidad para un sin fin de usos.\n",
        "\n",
        "Un ejemplo claro es las casas de apuestas, hacen uso de modelos como estos para poder fijar sus cuotas y reducir sus riesgos, solo que ellos usan modelos más precisos que este."
      ],
      "metadata": {
        "id": "DfpnGjC0gtd1"
      }
    },
    {
      "cell_type": "markdown",
      "source": [
        "# ¿Puedes usar distribuciones de probabilidad para identificar similitudes entre varios procesos?\n",
        "\n",
        "Si, se puede para poder comparar diferentes torneos o ligas de futbol, o tambien entre diferentes deportes pueden ser usados estas distribuciones de probabilidades, es un sin fin de usos, se podría decir que estos modelos nos rodean."
      ],
      "metadata": {
        "id": "MarJixgBh46Y"
      }
    }
  ]
}